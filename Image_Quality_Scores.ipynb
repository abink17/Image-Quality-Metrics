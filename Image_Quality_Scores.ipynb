{
  "nbformat": 4,
  "nbformat_minor": 0,
  "metadata": {
    "colab": {
      "name": "Image Quality Scores.ipynb",
      "provenance": [],
      "collapsed_sections": []
    },
    "kernelspec": {
      "name": "python3",
      "display_name": "Python 3"
    }
  },
  "cells": [
    {
      "cell_type": "markdown",
      "metadata": {
        "id": "hkYLtuTR-jEd",
        "colab_type": "text"
      },
      "source": [
        "**Mounting the google drive project folder**"
      ]
    },
    {
      "cell_type": "code",
      "metadata": {
        "id": "_xrRYgYB-AbX",
        "colab_type": "code",
        "colab": {
          "base_uri": "https://localhost:8080/",
          "height": 121
        },
        "outputId": "64eb93d0-acc3-46cb-b0bc-f57983bf7dcd"
      },
      "source": [
        "from google.colab import drive\n",
        "import os\n",
        "drive.mount('/content/drive/', force_remount=True)\n",
        "os.chdir('/content/drive/My Drive/Lifelogging/')"
      ],
      "execution_count": 2,
      "outputs": [
        {
          "output_type": "stream",
          "text": [
            "Go to this URL in a browser: https://accounts.google.com/o/oauth2/auth?client_id=947318989803-6bn6qk8qdgf4n4g3pfee6491hc0brc4i.apps.googleusercontent.com&redirect_uri=urn%3aietf%3awg%3aoauth%3a2.0%3aoob&scope=email%20https%3a%2f%2fwww.googleapis.com%2fauth%2fdocs.test%20https%3a%2f%2fwww.googleapis.com%2fauth%2fdrive%20https%3a%2f%2fwww.googleapis.com%2fauth%2fdrive.photos.readonly%20https%3a%2f%2fwww.googleapis.com%2fauth%2fpeopleapi.readonly&response_type=code\n",
            "\n",
            "Enter your authorization code:\n",
            "··········\n",
            "Mounted at /content/drive/\n"
          ],
          "name": "stdout"
        }
      ]
    },
    {
      "cell_type": "markdown",
      "metadata": {
        "id": "MnokG3k2_MbF",
        "colab_type": "text"
      },
      "source": [
        "**Funtion to determine the blur factor of an image**"
      ]
    },
    {
      "cell_type": "code",
      "metadata": {
        "id": "G7w_fsrK-U7D",
        "colab_type": "code",
        "colab": {}
      },
      "source": [
        "def blur(image):\n",
        "  def variance_of_laplacian(image):\n",
        "    #calculating and returning the Laplacian variance of the image\n",
        "    return cv2.Laplacian(image, cv2.CV_64F).var()\n",
        "\n",
        "  #converting the image to grayscale for better processing\n",
        "  gray = cv2.cvtColor(image, cv2.COLOR_BGR2GRAY)\n",
        "  v = variance_of_laplacian(gray)\n",
        "  text = \"Clear\"\n",
        "\n",
        "  if v < 100:\n",
        "      text = \"Blurry\"\n",
        "\n",
        "  #adding blur detail onto the image for intermediate result\n",
        "  #only if chose to display\n",
        "  cv2.putText(image, \"{}: {:.2f}\".format(text, v), (10, 30), cv2.FONT_HERSHEY_PLAIN, 1.7, (250, 0, 0), 2)\n",
        "\n",
        "  #from google.colab.patches import cv2_imshow\n",
        "  #cv2_imshow(image)\n",
        "  return v"
      ],
      "execution_count": 5,
      "outputs": []
    },
    {
      "cell_type": "markdown",
      "metadata": {
        "id": "8mSn8ttR_dTE",
        "colab_type": "text"
      },
      "source": [
        "**Funtion to determine the noise factor of an image**"
      ]
    },
    {
      "cell_type": "code",
      "metadata": {
        "id": "kz78ogfx_huW",
        "colab_type": "code",
        "colab": {}
      },
      "source": [
        "def noise(image):\n",
        "\n",
        "  #calculating average signal of the image foreground \n",
        "  m = np.mean(image)          \n",
        "\n",
        "  #calculating the stand deviation image background\n",
        "  s = np.std(image)           \n",
        "\n",
        "  #Signal-to-Noise ratio\n",
        "  SNR = 10*math.log10(m/s)    \n",
        "\n",
        "  return SNR"
      ],
      "execution_count": 6,
      "outputs": []
    },
    {
      "cell_type": "markdown",
      "metadata": {
        "id": "NapaprHz_rmj",
        "colab_type": "text"
      },
      "source": [
        "**Function to determine the contrast value of an image**"
      ]
    },
    {
      "cell_type": "code",
      "metadata": {
        "id": "tFrzJIVj_wZS",
        "colab_type": "code",
        "colab": {}
      },
      "source": [
        "def contrast(image):\n",
        "  \n",
        "  #converting the image to grayscale\n",
        "  gray = cv2.cvtColor(image, cv2.COLOR_BGR2GRAY)\n",
        "\n",
        "  #calculating the variance of the grayscale image\n",
        "  d = gray.var()\n",
        "\n",
        "  return d"
      ],
      "execution_count": 7,
      "outputs": []
    },
    {
      "cell_type": "markdown",
      "metadata": {
        "id": "9kCHDlJm_-HK",
        "colab_type": "text"
      },
      "source": [
        "**The principal code block that initiates image processing**"
      ]
    },
    {
      "cell_type": "code",
      "metadata": {
        "id": "skrZcDIfADdQ",
        "colab_type": "code",
        "colab": {
          "base_uri": "https://localhost:8080/",
          "height": 246
        },
        "outputId": "2aaee648-7e0e-49ac-b568-f53920c240b0"
      },
      "source": [
        "#importing necessary libraries for the project\n",
        "import pathlib\n",
        "import cv2\n",
        "import numpy as np\n",
        "import math\n",
        "import pandas as pd\n",
        "import glob\n",
        "\n",
        "#data_dir = pathlib.Path('/content/drive/My Drive/')\n",
        "\n",
        "#traversing through the parent folder to determine the total amount of images existing across subfolders\n",
        "image_count = len(list(glob.glob('/content/drive/My Drive/Lifelogging/**/*.JPG')))\n",
        "print('Images found\\t:',image_count)\n",
        "print('----------------------------------------------------\\n')\n",
        "\n",
        "\n",
        "#defining the columns of dataframe used for image dataset\n",
        "image_set = pd.DataFrame(columns = ['Filename','Blur','Noise','Contrast'])\n",
        "\n",
        "#extracting the list of all image files under the project folder\n",
        "files = glob.glob('/content/drive/My Drive/Lifelogging/**/*.JPG')\n",
        "\n",
        "#looping through all the files\n",
        "for filename in files:\n",
        "  #converting the path type to string type\n",
        "  #reading an image file\n",
        "  image = cv2.imread(str(filename))\n",
        "  \n",
        "  #extracting the filename\n",
        "  base=os.path.basename(str(filename))\n",
        "  \n",
        "  #obtaining the blur, noise and contrast values from the distinct functions for the respective image\n",
        "  blur_count = blur(image)\n",
        "  noise_count = noise(image)\n",
        "  contrast_count = contrast(image)\n",
        "  \n",
        "  #adding the attribute values to the dataframe\n",
        "  image_set.loc[len(image_set)] = [base,blur_count,noise_count,contrast_count]\n",
        "\n",
        "#checking the resultant dataframe\n",
        "image_set.head()\n",
        "image_set.tail()"
      ],
      "execution_count": 10,
      "outputs": [
        {
          "output_type": "stream",
          "text": [
            "Images found\t: 34940\n",
            "----------------------------------------------------\n",
            "\n"
          ],
          "name": "stdout"
        },
        {
          "output_type": "execute_result",
          "data": {
            "text/html": [
              "<div>\n",
              "<style scoped>\n",
              "    .dataframe tbody tr th:only-of-type {\n",
              "        vertical-align: middle;\n",
              "    }\n",
              "\n",
              "    .dataframe tbody tr th {\n",
              "        vertical-align: top;\n",
              "    }\n",
              "\n",
              "    .dataframe thead th {\n",
              "        text-align: right;\n",
              "    }\n",
              "</style>\n",
              "<table border=\"1\" class=\"dataframe\">\n",
              "  <thead>\n",
              "    <tr style=\"text-align: right;\">\n",
              "      <th></th>\n",
              "      <th>Filename</th>\n",
              "      <th>Blur</th>\n",
              "      <th>Noise</th>\n",
              "      <th>Contrast</th>\n",
              "    </tr>\n",
              "  </thead>\n",
              "  <tbody>\n",
              "    <tr>\n",
              "      <th>0</th>\n",
              "      <td>B00004290_21I6X0_20180504_130739E.JPG</td>\n",
              "      <td>89.212916</td>\n",
              "      <td>-0.325969</td>\n",
              "      <td>8744.913871</td>\n",
              "    </tr>\n",
              "    <tr>\n",
              "      <th>1</th>\n",
              "      <td>B00004951_21I6X0_20180504_173845E.JPG</td>\n",
              "      <td>181.041884</td>\n",
              "      <td>1.938497</td>\n",
              "      <td>2807.010122</td>\n",
              "    </tr>\n",
              "    <tr>\n",
              "      <th>2</th>\n",
              "      <td>B00004150_21I6X0_20180504_120752E.JPG</td>\n",
              "      <td>70.695700</td>\n",
              "      <td>1.470455</td>\n",
              "      <td>7859.658589</td>\n",
              "    </tr>\n",
              "    <tr>\n",
              "      <th>3</th>\n",
              "      <td>B00003796_21I6X0_20180504_093517E.JPG</td>\n",
              "      <td>82.724502</td>\n",
              "      <td>2.321314</td>\n",
              "      <td>3314.085188</td>\n",
              "    </tr>\n",
              "    <tr>\n",
              "      <th>4</th>\n",
              "      <td>B00003685_21I6X0_20180504_084651E.JPG</td>\n",
              "      <td>234.090913</td>\n",
              "      <td>0.212817</td>\n",
              "      <td>7392.070857</td>\n",
              "    </tr>\n",
              "  </tbody>\n",
              "</table>\n",
              "</div>"
            ],
            "text/plain": [
              "                                Filename        Blur     Noise     Contrast\n",
              "0  B00004290_21I6X0_20180504_130739E.JPG   89.212916 -0.325969  8744.913871\n",
              "1  B00004951_21I6X0_20180504_173845E.JPG  181.041884  1.938497  2807.010122\n",
              "2  B00004150_21I6X0_20180504_120752E.JPG   70.695700  1.470455  7859.658589\n",
              "3  B00003796_21I6X0_20180504_093517E.JPG   82.724502  2.321314  3314.085188\n",
              "4  B00003685_21I6X0_20180504_084651E.JPG  234.090913  0.212817  7392.070857"
            ]
          },
          "metadata": {
            "tags": []
          },
          "execution_count": 10
        }
      ]
    },
    {
      "cell_type": "markdown",
      "metadata": {
        "id": "qf4f5d8GBEIz",
        "colab_type": "text"
      },
      "source": [
        "**Determining the maximum and minimum values of each attributes existing in the dataset** "
      ]
    },
    {
      "cell_type": "code",
      "metadata": {
        "id": "Y57KD1tOc8rP",
        "colab_type": "code",
        "colab": {}
      },
      "source": [
        "max_blur = image_set[['Blur']].idxmax()\n",
        "max_noise = image_set[['Noise']].idxmax()\n",
        "max_contrast = image_set[['Contrast']].idxmax()\n",
        "\n",
        "min_blur = image_set[['Blur']].idxmin()\n",
        "min_noise = image_set[['Noise']].idxmin()\n",
        "min_contrast = image_set[['Contrast']].idxmin()\n",
        "\n",
        "print('Blur\\n--------------\\n',image_set.iloc[max_blur],'\\n',image_set.iloc[min_blur],'\\n')\n",
        "print('SNR\\n--------------\\n',image_set.iloc[max_noise],'\\n',image_set.iloc[min_noise],'\\n')\n",
        "print('Contrast\\n--------------\\n',image_set.iloc[max_contrast],'\\n',image_set.iloc[min_contrast],'\\n')"
      ],
      "execution_count": null,
      "outputs": []
    },
    {
      "cell_type": "markdown",
      "metadata": {
        "id": "bJY220jIBV_b",
        "colab_type": "text"
      },
      "source": [
        "**Exporting the dataset as .csv**"
      ]
    },
    {
      "cell_type": "code",
      "metadata": {
        "id": "u4BBScZnIJeR",
        "colab_type": "code",
        "colab": {
          "base_uri": "https://localhost:8080/",
          "height": 17
        },
        "outputId": "b644c9df-7e5b-4bc4-fd11-459a9b46a243"
      },
      "source": [
        "from google.colab import files\n",
        "image_set.to_csv('Image_data.csv') \n",
        "files.download('Image_data.csv')"
      ],
      "execution_count": 12,
      "outputs": [
        {
          "output_type": "display_data",
          "data": {
            "application/javascript": [
              "\n",
              "    async function download(id, filename, size) {\n",
              "      if (!google.colab.kernel.accessAllowed) {\n",
              "        return;\n",
              "      }\n",
              "      const div = document.createElement('div');\n",
              "      const label = document.createElement('label');\n",
              "      label.textContent = `Downloading \"${filename}\": `;\n",
              "      div.appendChild(label);\n",
              "      const progress = document.createElement('progress');\n",
              "      progress.max = size;\n",
              "      div.appendChild(progress);\n",
              "      document.body.appendChild(div);\n",
              "\n",
              "      const buffers = [];\n",
              "      let downloaded = 0;\n",
              "\n",
              "      const channel = await google.colab.kernel.comms.open(id);\n",
              "      // Send a message to notify the kernel that we're ready.\n",
              "      channel.send({})\n",
              "\n",
              "      for await (const message of channel.messages) {\n",
              "        // Send a message to notify the kernel that we're ready.\n",
              "        channel.send({})\n",
              "        if (message.buffers) {\n",
              "          for (const buffer of message.buffers) {\n",
              "            buffers.push(buffer);\n",
              "            downloaded += buffer.byteLength;\n",
              "            progress.value = downloaded;\n",
              "          }\n",
              "        }\n",
              "      }\n",
              "      const blob = new Blob(buffers, {type: 'application/binary'});\n",
              "      const a = document.createElement('a');\n",
              "      a.href = window.URL.createObjectURL(blob);\n",
              "      a.download = filename;\n",
              "      div.appendChild(a);\n",
              "      a.click();\n",
              "      div.remove();\n",
              "    }\n",
              "  "
            ],
            "text/plain": [
              "<IPython.core.display.Javascript object>"
            ]
          },
          "metadata": {
            "tags": []
          }
        },
        {
          "output_type": "display_data",
          "data": {
            "application/javascript": [
              "download(\"download_56614c5d-a0d6-4a53-bea0-220730defe68\", \"Image_data.csv\", 3467063)"
            ],
            "text/plain": [
              "<IPython.core.display.Javascript object>"
            ]
          },
          "metadata": {
            "tags": []
          }
        }
      ]
    }
  ]
}